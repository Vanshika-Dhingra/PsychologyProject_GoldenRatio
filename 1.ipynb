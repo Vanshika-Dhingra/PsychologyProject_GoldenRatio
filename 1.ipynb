{
 "cells": [
  {
   "cell_type": "code",
   "execution_count": 2,
   "metadata": {},
   "outputs": [
    {
     "name": "stdout",
     "output_type": "stream",
     "text": [
      "Black Pixels: 31868\n",
      "White Pixels: 232\n",
      "Black to White Ratio: 137.36\n"
     ]
    }
   ],
   "source": [
    "from PIL import Image\n",
    "\n",
    "def calculate_black_to_white_ratio(image_path):\n",
    "    try:\n",
    "        # Load the image\n",
    "        image = Image.open(image_path)\n",
    "\n",
    "        # Convert the image to RGBA mode to include alpha (transparency) channel\n",
    "        image = image.convert(\"RGBA\")\n",
    "\n",
    "        # Get pixel data\n",
    "        pixels = list(image.getdata())\n",
    "\n",
    "        # Count black (0) and white (255) pixels while excluding transparent pixels\n",
    "        black_pixels = 0\n",
    "        white_pixels = 0\n",
    "\n",
    "        for pixel in pixels:\n",
    "            r, g, b, a = pixel\n",
    "            if a > 0:  # Exclude transparent pixels\n",
    "                if r == 0 and g == 0 and b == 0:\n",
    "                    black_pixels += 1\n",
    "                elif r == 255 and g == 255 and b == 255:\n",
    "                    white_pixels += 1\n",
    "\n",
    "        # Calculate the ratio\n",
    "        if white_pixels == 0:\n",
    "            ratio = 0  # To avoid division by zero\n",
    "        else:\n",
    "            ratio = black_pixels / white_pixels\n",
    "\n",
    "        return black_pixels, white_pixels, ratio\n",
    "\n",
    "    except Exception as e:\n",
    "        return None\n",
    "\n",
    "# Specify the path to your image\n",
    "image_path = \"./experiment2_shapes/1xShapes/square.png\"\n",
    "\n",
    "result = calculate_black_to_white_ratio(image_path)\n",
    "\n",
    "if result:\n",
    "    black_pixels, white_pixels, ratio = result\n",
    "    print(f\"Black Pixels: {black_pixels}\")\n",
    "    print(f\"White Pixels: {white_pixels}\")\n",
    "    print(f\"Black to White Ratio: {ratio:.2f}\")\n",
    "else:\n",
    "    print(\"Error loading the image or calculating the ratio.\")"
   ]
  }
 ],
 "metadata": {
  "kernelspec": {
   "display_name": "ml",
   "language": "python",
   "name": "python3"
  },
  "language_info": {
   "codemirror_mode": {
    "name": "ipython",
    "version": 3
   },
   "file_extension": ".py",
   "mimetype": "text/x-python",
   "name": "python",
   "nbconvert_exporter": "python",
   "pygments_lexer": "ipython3",
   "version": "3.11.0"
  }
 },
 "nbformat": 4,
 "nbformat_minor": 2
}
